{
 "cells": [
  {
   "cell_type": "markdown",
   "id": "00393474-ecf2-4f09-b342-1197d927d33a",
   "metadata": {},
   "source": [
    "### Import Libraries"
   ]
  },
  {
   "cell_type": "code",
   "execution_count": 2,
   "id": "38f66fb6-d791-4916-8983-65cd03963b5b",
   "metadata": {},
   "outputs": [],
   "source": [
    "import pandas as pd\n",
    "import numpy as np\n",
    "import matplotlib.pyplot as plt\n",
    "import seaborn as sns"
   ]
  },
  {
   "cell_type": "code",
   "execution_count": 3,
   "id": "31a39159-49c8-4669-91cd-87af24c145a1",
   "metadata": {},
   "outputs": [],
   "source": [
    "df = pd.read_csv(\"melb_data.csv\")"
   ]
  },
  {
   "cell_type": "code",
   "execution_count": 4,
   "id": "1aeed42b-bfe5-488c-bfed-ce3789d0e539",
   "metadata": {},
   "outputs": [
    {
     "data": {
      "text/html": [
       "<div>\n",
       "<style scoped>\n",
       "    .dataframe tbody tr th:only-of-type {\n",
       "        vertical-align: middle;\n",
       "    }\n",
       "\n",
       "    .dataframe tbody tr th {\n",
       "        vertical-align: top;\n",
       "    }\n",
       "\n",
       "    .dataframe thead th {\n",
       "        text-align: right;\n",
       "    }\n",
       "</style>\n",
       "<table border=\"1\" class=\"dataframe\">\n",
       "  <thead>\n",
       "    <tr style=\"text-align: right;\">\n",
       "      <th></th>\n",
       "      <th>Suburb</th>\n",
       "      <th>Address</th>\n",
       "      <th>Rooms</th>\n",
       "      <th>Type</th>\n",
       "      <th>Price</th>\n",
       "      <th>Method</th>\n",
       "      <th>SellerG</th>\n",
       "      <th>Date</th>\n",
       "      <th>Distance</th>\n",
       "      <th>Postcode</th>\n",
       "      <th>...</th>\n",
       "      <th>Bathroom</th>\n",
       "      <th>Car</th>\n",
       "      <th>Landsize</th>\n",
       "      <th>BuildingArea</th>\n",
       "      <th>YearBuilt</th>\n",
       "      <th>CouncilArea</th>\n",
       "      <th>Lattitude</th>\n",
       "      <th>Longtitude</th>\n",
       "      <th>Regionname</th>\n",
       "      <th>Propertycount</th>\n",
       "    </tr>\n",
       "  </thead>\n",
       "  <tbody>\n",
       "    <tr>\n",
       "      <th>0</th>\n",
       "      <td>Abbotsford</td>\n",
       "      <td>85 Turner St</td>\n",
       "      <td>2</td>\n",
       "      <td>h</td>\n",
       "      <td>1480000.0</td>\n",
       "      <td>S</td>\n",
       "      <td>Biggin</td>\n",
       "      <td>3/12/2016</td>\n",
       "      <td>2.5</td>\n",
       "      <td>3067.0</td>\n",
       "      <td>...</td>\n",
       "      <td>1.0</td>\n",
       "      <td>1.0</td>\n",
       "      <td>202.0</td>\n",
       "      <td>NaN</td>\n",
       "      <td>NaN</td>\n",
       "      <td>Yarra</td>\n",
       "      <td>-37.7996</td>\n",
       "      <td>144.9984</td>\n",
       "      <td>Northern Metropolitan</td>\n",
       "      <td>4019.0</td>\n",
       "    </tr>\n",
       "    <tr>\n",
       "      <th>1</th>\n",
       "      <td>Abbotsford</td>\n",
       "      <td>25 Bloomburg St</td>\n",
       "      <td>2</td>\n",
       "      <td>h</td>\n",
       "      <td>1035000.0</td>\n",
       "      <td>S</td>\n",
       "      <td>Biggin</td>\n",
       "      <td>4/02/2016</td>\n",
       "      <td>2.5</td>\n",
       "      <td>3067.0</td>\n",
       "      <td>...</td>\n",
       "      <td>1.0</td>\n",
       "      <td>0.0</td>\n",
       "      <td>156.0</td>\n",
       "      <td>79.0</td>\n",
       "      <td>1900.0</td>\n",
       "      <td>Yarra</td>\n",
       "      <td>-37.8079</td>\n",
       "      <td>144.9934</td>\n",
       "      <td>Northern Metropolitan</td>\n",
       "      <td>4019.0</td>\n",
       "    </tr>\n",
       "    <tr>\n",
       "      <th>2</th>\n",
       "      <td>Abbotsford</td>\n",
       "      <td>5 Charles St</td>\n",
       "      <td>3</td>\n",
       "      <td>h</td>\n",
       "      <td>1465000.0</td>\n",
       "      <td>SP</td>\n",
       "      <td>Biggin</td>\n",
       "      <td>4/03/2017</td>\n",
       "      <td>2.5</td>\n",
       "      <td>3067.0</td>\n",
       "      <td>...</td>\n",
       "      <td>2.0</td>\n",
       "      <td>0.0</td>\n",
       "      <td>134.0</td>\n",
       "      <td>150.0</td>\n",
       "      <td>1900.0</td>\n",
       "      <td>Yarra</td>\n",
       "      <td>-37.8093</td>\n",
       "      <td>144.9944</td>\n",
       "      <td>Northern Metropolitan</td>\n",
       "      <td>4019.0</td>\n",
       "    </tr>\n",
       "    <tr>\n",
       "      <th>3</th>\n",
       "      <td>Abbotsford</td>\n",
       "      <td>40 Federation La</td>\n",
       "      <td>3</td>\n",
       "      <td>h</td>\n",
       "      <td>850000.0</td>\n",
       "      <td>PI</td>\n",
       "      <td>Biggin</td>\n",
       "      <td>4/03/2017</td>\n",
       "      <td>2.5</td>\n",
       "      <td>3067.0</td>\n",
       "      <td>...</td>\n",
       "      <td>2.0</td>\n",
       "      <td>1.0</td>\n",
       "      <td>94.0</td>\n",
       "      <td>NaN</td>\n",
       "      <td>NaN</td>\n",
       "      <td>Yarra</td>\n",
       "      <td>-37.7969</td>\n",
       "      <td>144.9969</td>\n",
       "      <td>Northern Metropolitan</td>\n",
       "      <td>4019.0</td>\n",
       "    </tr>\n",
       "    <tr>\n",
       "      <th>4</th>\n",
       "      <td>Abbotsford</td>\n",
       "      <td>55a Park St</td>\n",
       "      <td>4</td>\n",
       "      <td>h</td>\n",
       "      <td>1600000.0</td>\n",
       "      <td>VB</td>\n",
       "      <td>Nelson</td>\n",
       "      <td>4/06/2016</td>\n",
       "      <td>2.5</td>\n",
       "      <td>3067.0</td>\n",
       "      <td>...</td>\n",
       "      <td>1.0</td>\n",
       "      <td>2.0</td>\n",
       "      <td>120.0</td>\n",
       "      <td>142.0</td>\n",
       "      <td>2014.0</td>\n",
       "      <td>Yarra</td>\n",
       "      <td>-37.8072</td>\n",
       "      <td>144.9941</td>\n",
       "      <td>Northern Metropolitan</td>\n",
       "      <td>4019.0</td>\n",
       "    </tr>\n",
       "  </tbody>\n",
       "</table>\n",
       "<p>5 rows × 21 columns</p>\n",
       "</div>"
      ],
      "text/plain": [
       "       Suburb           Address  Rooms Type      Price Method SellerG  \\\n",
       "0  Abbotsford      85 Turner St      2    h  1480000.0      S  Biggin   \n",
       "1  Abbotsford   25 Bloomburg St      2    h  1035000.0      S  Biggin   \n",
       "2  Abbotsford      5 Charles St      3    h  1465000.0     SP  Biggin   \n",
       "3  Abbotsford  40 Federation La      3    h   850000.0     PI  Biggin   \n",
       "4  Abbotsford       55a Park St      4    h  1600000.0     VB  Nelson   \n",
       "\n",
       "        Date  Distance  Postcode  ...  Bathroom  Car  Landsize  BuildingArea  \\\n",
       "0  3/12/2016       2.5    3067.0  ...       1.0  1.0     202.0           NaN   \n",
       "1  4/02/2016       2.5    3067.0  ...       1.0  0.0     156.0          79.0   \n",
       "2  4/03/2017       2.5    3067.0  ...       2.0  0.0     134.0         150.0   \n",
       "3  4/03/2017       2.5    3067.0  ...       2.0  1.0      94.0           NaN   \n",
       "4  4/06/2016       2.5    3067.0  ...       1.0  2.0     120.0         142.0   \n",
       "\n",
       "   YearBuilt  CouncilArea Lattitude  Longtitude             Regionname  \\\n",
       "0        NaN        Yarra  -37.7996    144.9984  Northern Metropolitan   \n",
       "1     1900.0        Yarra  -37.8079    144.9934  Northern Metropolitan   \n",
       "2     1900.0        Yarra  -37.8093    144.9944  Northern Metropolitan   \n",
       "3        NaN        Yarra  -37.7969    144.9969  Northern Metropolitan   \n",
       "4     2014.0        Yarra  -37.8072    144.9941  Northern Metropolitan   \n",
       "\n",
       "  Propertycount  \n",
       "0        4019.0  \n",
       "1        4019.0  \n",
       "2        4019.0  \n",
       "3        4019.0  \n",
       "4        4019.0  \n",
       "\n",
       "[5 rows x 21 columns]"
      ]
     },
     "execution_count": 4,
     "metadata": {},
     "output_type": "execute_result"
    }
   ],
   "source": [
    "df.head()"
   ]
  },
  {
   "cell_type": "markdown",
   "id": "cb105e43-6773-4bb4-b82e-049096b20f3a",
   "metadata": {},
   "source": [
    "### Initial Data Exploration"
   ]
  },
  {
   "cell_type": "code",
   "execution_count": 5,
   "id": "3e2758ab-b8b8-4ec5-9cd1-fdbfb7b1077c",
   "metadata": {},
   "outputs": [
    {
     "data": {
      "text/plain": [
       "(13580, 21)"
      ]
     },
     "execution_count": 5,
     "metadata": {},
     "output_type": "execute_result"
    }
   ],
   "source": [
    "df.shape"
   ]
  },
  {
   "cell_type": "code",
   "execution_count": 6,
   "id": "fcac0320-32f3-40cc-a58c-740e03bee931",
   "metadata": {},
   "outputs": [
    {
     "name": "stdout",
     "output_type": "stream",
     "text": [
      "<class 'pandas.core.frame.DataFrame'>\n",
      "RangeIndex: 13580 entries, 0 to 13579\n",
      "Data columns (total 21 columns):\n",
      " #   Column         Non-Null Count  Dtype  \n",
      "---  ------         --------------  -----  \n",
      " 0   Suburb         13580 non-null  object \n",
      " 1   Address        13580 non-null  object \n",
      " 2   Rooms          13580 non-null  int64  \n",
      " 3   Type           13580 non-null  object \n",
      " 4   Price          13580 non-null  float64\n",
      " 5   Method         13580 non-null  object \n",
      " 6   SellerG        13580 non-null  object \n",
      " 7   Date           13580 non-null  object \n",
      " 8   Distance       13580 non-null  float64\n",
      " 9   Postcode       13580 non-null  float64\n",
      " 10  Bedroom2       13580 non-null  float64\n",
      " 11  Bathroom       13580 non-null  float64\n",
      " 12  Car            13518 non-null  float64\n",
      " 13  Landsize       13580 non-null  float64\n",
      " 14  BuildingArea   7130 non-null   float64\n",
      " 15  YearBuilt      8205 non-null   float64\n",
      " 16  CouncilArea    12211 non-null  object \n",
      " 17  Lattitude      13580 non-null  float64\n",
      " 18  Longtitude     13580 non-null  float64\n",
      " 19  Regionname     13580 non-null  object \n",
      " 20  Propertycount  13580 non-null  float64\n",
      "dtypes: float64(12), int64(1), object(8)\n",
      "memory usage: 2.2+ MB\n"
     ]
    }
   ],
   "source": [
    "df.info()"
   ]
  },
  {
   "cell_type": "code",
   "execution_count": 7,
   "id": "f7f85673-f5eb-4157-970a-8577e8a48620",
   "metadata": {},
   "outputs": [
    {
     "data": {
      "text/plain": [
       "Suburb              0\n",
       "Address             0\n",
       "Rooms               0\n",
       "Type                0\n",
       "Price               0\n",
       "Method              0\n",
       "SellerG             0\n",
       "Date                0\n",
       "Distance            0\n",
       "Postcode            0\n",
       "Bedroom2            0\n",
       "Bathroom            0\n",
       "Car                62\n",
       "Landsize            0\n",
       "BuildingArea     6450\n",
       "YearBuilt        5375\n",
       "CouncilArea      1369\n",
       "Lattitude           0\n",
       "Longtitude          0\n",
       "Regionname          0\n",
       "Propertycount       0\n",
       "dtype: int64"
      ]
     },
     "execution_count": 7,
     "metadata": {},
     "output_type": "execute_result"
    }
   ],
   "source": [
    "df.isnull().sum()"
   ]
  },
  {
   "cell_type": "code",
   "execution_count": 8,
   "id": "cdab1055-937e-4bed-8b76-11020a714aa1",
   "metadata": {},
   "outputs": [
    {
     "data": {
      "text/plain": [
       "Suburb            0.000000\n",
       "Address           0.000000\n",
       "Rooms             0.000000\n",
       "Type              0.000000\n",
       "Price             0.000000\n",
       "Method            0.000000\n",
       "SellerG           0.000000\n",
       "Date              0.000000\n",
       "Distance          0.000000\n",
       "Postcode          0.000000\n",
       "Bedroom2          0.000000\n",
       "Bathroom          0.000000\n",
       "Car               0.456554\n",
       "Landsize          0.000000\n",
       "BuildingArea     47.496318\n",
       "YearBuilt        39.580265\n",
       "CouncilArea      10.081001\n",
       "Lattitude         0.000000\n",
       "Longtitude        0.000000\n",
       "Regionname        0.000000\n",
       "Propertycount     0.000000\n",
       "dtype: float64"
      ]
     },
     "execution_count": 8,
     "metadata": {},
     "output_type": "execute_result"
    }
   ],
   "source": [
    "df.isnull().mean() * 100"
   ]
  },
  {
   "cell_type": "markdown",
   "id": "7d42cad8-e877-4a8f-9b70-374e2dea1bce",
   "metadata": {},
   "source": [
    "- **The missing data is not more than 70% in any of the columns so column-wise deletion is not good**\n",
    "- **Since only 4 variables has missing values row-wise deletion is also not good**\n",
    "# **Imputation**\n",
    "- **Mean for Numerical variable -- if no Outliers**\n",
    "- **Median for Numerical Variable -- if Outliers**\n",
    "- **Mode for Categorical Variable**\n",
    "- **There is no missing values variable which is timeseries so not an option for forward/backward fill**"
   ]
  },
  {
   "cell_type": "code",
   "execution_count": 9,
   "id": "cca55e74-9e5f-4800-a306-10c409813065",
   "metadata": {},
   "outputs": [
    {
     "data": {
      "text/plain": [
       "Car\n",
       "2.0     5591\n",
       "1.0     5509\n",
       "0.0     1026\n",
       "3.0      748\n",
       "4.0      506\n",
       "5.0       63\n",
       "6.0       54\n",
       "8.0        9\n",
       "7.0        8\n",
       "10.0       3\n",
       "9.0        1\n",
       "Name: count, dtype: int64"
      ]
     },
     "execution_count": 9,
     "metadata": {},
     "output_type": "execute_result"
    }
   ],
   "source": [
    "df['Car'].value_counts()  ##--> mode"
   ]
  },
  {
   "cell_type": "code",
   "execution_count": 10,
   "id": "294c7c06-99ae-47a4-91b8-8cb51d8f1fdc",
   "metadata": {},
   "outputs": [
    {
     "data": {
      "text/plain": [
       "BuildingArea\n",
       "120.00    114\n",
       "110.00     89\n",
       "100.00     88\n",
       "130.00     84\n",
       "115.00     77\n",
       "         ... \n",
       "255.79      1\n",
       "424.00      1\n",
       "186.36      1\n",
       "147.20      1\n",
       "368.00      1\n",
       "Name: count, Length: 602, dtype: int64"
      ]
     },
     "execution_count": 10,
     "metadata": {},
     "output_type": "execute_result"
    }
   ],
   "source": [
    "df['BuildingArea'].value_counts()  ##--> Mean or Median"
   ]
  },
  {
   "cell_type": "code",
   "execution_count": 12,
   "id": "9a39fc8c-6e3d-4bd0-adc7-e612a277967c",
   "metadata": {},
   "outputs": [
    {
     "data": {
      "text/plain": [
       "YearBuilt\n",
       "1970.0    866\n",
       "1960.0    725\n",
       "1950.0    580\n",
       "1900.0    341\n",
       "1980.0    338\n",
       "         ... \n",
       "1897.0      1\n",
       "1933.0      1\n",
       "1830.0      1\n",
       "1901.0      1\n",
       "1857.0      1\n",
       "Name: count, Length: 144, dtype: int64"
      ]
     },
     "execution_count": 12,
     "metadata": {},
     "output_type": "execute_result"
    }
   ],
   "source": [
    "\n",
    "df['YearBuilt'].value_counts()  ##--> Mean or Median\n"
   ]
  },
  {
   "cell_type": "code",
   "execution_count": 13,
   "id": "2f2b65fa-e90e-4734-a0f0-921fca0304e0",
   "metadata": {},
   "outputs": [
    {
     "data": {
      "text/plain": [
       "CouncilArea\n",
       "Moreland             1163\n",
       "Boroondara           1160\n",
       "Moonee Valley         997\n",
       "Darebin               934\n",
       "Glen Eira             848\n",
       "Stonnington           719\n",
       "Maribyrnong           692\n",
       "Yarra                 647\n",
       "Port Phillip          628\n",
       "Banyule               594\n",
       "Bayside               489\n",
       "Melbourne             470\n",
       "Hobsons Bay           434\n",
       "Brimbank              424\n",
       "Monash                333\n",
       "Manningham            311\n",
       "Whitehorse            304\n",
       "Kingston              207\n",
       "Whittlesea            167\n",
       "Hume                  164\n",
       "Wyndham                86\n",
       "Knox                   80\n",
       "Maroondah              80\n",
       "Melton                 66\n",
       "Frankston              53\n",
       "Greater Dandenong      52\n",
       "Casey                  38\n",
       "Nillumbik              36\n",
       "Yarra Ranges           18\n",
       "Cardinia                8\n",
       "Macedon Ranges          7\n",
       "Unavailable             1\n",
       "Moorabool               1\n",
       "Name: count, dtype: int64"
      ]
     },
     "execution_count": 13,
     "metadata": {},
     "output_type": "execute_result"
    }
   ],
   "source": [
    "df['CouncilArea'].value_counts() ##--> Mode"
   ]
  },
  {
   "cell_type": "code",
   "execution_count": 14,
   "id": "b4b0e5ca-065f-4a46-97c7-8b952cffb733",
   "metadata": {},
   "outputs": [
    {
     "data": {
      "image/png": "[encoded data removed]",
      "text/plain": [
       "<Figure size 1000x600 with 1 Axes>"
      ]
     },
     "metadata": {},
     "output_type": "display_data"
    }
   ],
   "source": [
    "plt.figure(figsize=(10,6))\n",
    "sns.heatmap(df.isnull(), cbar=False,  cmap='viridis', yticklabels=False)\n",
    "plt.show()"
   ]
  },
  {
   "cell_type": "code",
   "execution_count": 15,
   "id": "5d8c5268-a178-499f-903c-15bd8b8ca2a4",
   "metadata": {},
   "outputs": [
    {
     "data": {
      "text/html": [
       "<div>\n",
       "<style scoped>\n",
       "    .dataframe tbody tr th:only-of-type {\n",
       "        vertical-align: middle;\n",
       "    }\n",
       "\n",
       "    .dataframe tbody tr th {\n",
       "        vertical-align: top;\n",
       "    }\n",
       "\n",
       "    .dataframe thead th {\n",
       "        text-align: right;\n",
       "    }\n",
       "</style>\n",
       "<table border=\"1\" class=\"dataframe\">\n",
       "  <thead>\n",
       "    <tr style=\"text-align: right;\">\n",
       "      <th></th>\n",
       "      <th>Rooms</th>\n",
       "      <th>Price</th>\n",
       "      <th>Distance</th>\n",
       "      <th>Postcode</th>\n",
       "      <th>Bedroom2</th>\n",
       "      <th>Bathroom</th>\n",
       "      <th>Car</th>\n",
       "      <th>Landsize</th>\n",
       "      <th>BuildingArea</th>\n",
       "      <th>YearBuilt</th>\n",
       "      <th>Lattitude</th>\n",
       "      <th>Longtitude</th>\n",
       "      <th>Propertycount</th>\n",
       "    </tr>\n",
       "  </thead>\n",
       "  <tbody>\n",
       "    <tr>\n",
       "      <th>count</th>\n",
       "      <td>13580.00</td>\n",
       "      <td>13580.00</td>\n",
       "      <td>13580.00</td>\n",
       "      <td>13580.00</td>\n",
       "      <td>13580.00</td>\n",
       "      <td>13580.00</td>\n",
       "      <td>13518.00</td>\n",
       "      <td>13580.00</td>\n",
       "      <td>7130.00</td>\n",
       "      <td>8205.00</td>\n",
       "      <td>13580.00</td>\n",
       "      <td>13580.00</td>\n",
       "      <td>13580.00</td>\n",
       "    </tr>\n",
       "    <tr>\n",
       "      <th>mean</th>\n",
       "      <td>2.94</td>\n",
       "      <td>1075684.08</td>\n",
       "      <td>10.14</td>\n",
       "      <td>3105.30</td>\n",
       "      <td>2.91</td>\n",
       "      <td>1.53</td>\n",
       "      <td>1.61</td>\n",
       "      <td>558.42</td>\n",
       "      <td>151.97</td>\n",
       "      <td>1964.68</td>\n",
       "      <td>-37.81</td>\n",
       "      <td>145.00</td>\n",
       "      <td>7454.42</td>\n",
       "    </tr>\n",
       "    <tr>\n",
       "      <th>std</th>\n",
       "      <td>0.96</td>\n",
       "      <td>639310.72</td>\n",
       "      <td>5.87</td>\n",
       "      <td>90.68</td>\n",
       "      <td>0.97</td>\n",
       "      <td>0.69</td>\n",
       "      <td>0.96</td>\n",
       "      <td>3990.67</td>\n",
       "      <td>541.01</td>\n",
       "      <td>37.27</td>\n",
       "      <td>0.08</td>\n",
       "      <td>0.10</td>\n",
       "      <td>4378.58</td>\n",
       "    </tr>\n",
       "    <tr>\n",
       "      <th>min</th>\n",
       "      <td>1.00</td>\n",
       "      <td>85000.00</td>\n",
       "      <td>0.00</td>\n",
       "      <td>3000.00</td>\n",
       "      <td>0.00</td>\n",
       "      <td>0.00</td>\n",
       "      <td>0.00</td>\n",
       "      <td>0.00</td>\n",
       "      <td>0.00</td>\n",
       "      <td>1196.00</td>\n",
       "      <td>-38.18</td>\n",
       "      <td>144.43</td>\n",
       "      <td>249.00</td>\n",
       "    </tr>\n",
       "    <tr>\n",
       "      <th>25%</th>\n",
       "      <td>2.00</td>\n",
       "      <td>650000.00</td>\n",
       "      <td>6.10</td>\n",
       "      <td>3044.00</td>\n",
       "      <td>2.00</td>\n",
       "      <td>1.00</td>\n",
       "      <td>1.00</td>\n",
       "      <td>177.00</td>\n",
       "      <td>93.00</td>\n",
       "      <td>1940.00</td>\n",
       "      <td>-37.86</td>\n",
       "      <td>144.93</td>\n",
       "      <td>4380.00</td>\n",
       "    </tr>\n",
       "    <tr>\n",
       "      <th>50%</th>\n",
       "      <td>3.00</td>\n",
       "      <td>903000.00</td>\n",
       "      <td>9.20</td>\n",
       "      <td>3084.00</td>\n",
       "      <td>3.00</td>\n",
       "      <td>1.00</td>\n",
       "      <td>2.00</td>\n",
       "      <td>440.00</td>\n",
       "      <td>126.00</td>\n",
       "      <td>1970.00</td>\n",
       "      <td>-37.80</td>\n",
       "      <td>145.00</td>\n",
       "      <td>6555.00</td>\n",
       "    </tr>\n",
       "    <tr>\n",
       "      <th>75%</th>\n",
       "      <td>3.00</td>\n",
       "      <td>1330000.00</td>\n",
       "      <td>13.00</td>\n",
       "      <td>3148.00</td>\n",
       "      <td>3.00</td>\n",
       "      <td>2.00</td>\n",
       "      <td>2.00</td>\n",
       "      <td>651.00</td>\n",
       "      <td>174.00</td>\n",
       "      <td>1999.00</td>\n",
       "      <td>-37.76</td>\n",
       "      <td>145.06</td>\n",
       "      <td>10331.00</td>\n",
       "    </tr>\n",
       "    <tr>\n",
       "      <th>max</th>\n",
       "      <td>10.00</td>\n",
       "      <td>9000000.00</td>\n",
       "      <td>48.10</td>\n",
       "      <td>3977.00</td>\n",
       "      <td>20.00</td>\n",
       "      <td>8.00</td>\n",
       "      <td>10.00</td>\n",
       "      <td>433014.00</td>\n",
       "      <td>44515.00</td>\n",
       "      <td>2018.00</td>\n",
       "      <td>-37.41</td>\n",
       "      <td>145.53</td>\n",
       "      <td>21650.00</td>\n",
       "    </tr>\n",
       "  </tbody>\n",
       "</table>\n",
       "</div>"
      ],
      "text/plain": [
       "         Rooms      Price  Distance  Postcode  Bedroom2  Bathroom      Car  \\\n",
       "count 13580.00   13580.00  13580.00  13580.00  13580.00  13580.00 13518.00   \n",
       "mean      2.94 1075684.08     10.14   3105.30      2.91      1.53     1.61   \n",
       "std       0.96  639310.72      5.87     90.68      0.97      0.69     0.96   \n",
       "min       1.00   85000.00      0.00   3000.00      0.00      0.00     0.00   \n",
       "25%       2.00  650000.00      6.10   3044.00      2.00      1.00     1.00   \n",
       "50%       3.00  903000.00      9.20   3084.00      3.00      1.00     2.00   \n",
       "75%       3.00 1330000.00     13.00   3148.00      3.00      2.00     2.00   \n",
       "max      10.00 9000000.00     48.10   3977.00     20.00      8.00    10.00   \n",
       "\n",
       "       Landsize  BuildingArea  YearBuilt  Lattitude  Longtitude  Propertycount  \n",
       "count  13580.00       7130.00    8205.00   13580.00    13580.00       13580.00  \n",
       "mean     558.42        151.97    1964.68     -37.81      145.00        7454.42  \n",
       "std     3990.67        541.01      37.27       0.08        0.10        4378.58  \n",
       "min        0.00          0.00    1196.00     -38.18      144.43         249.00  \n",
       "25%      177.00         93.00    1940.00     -37.86      144.93        4380.00  \n",
       "50%      440.00        126.00    1970.00     -37.80      145.00        6555.00  \n",
       "75%      651.00        174.00    1999.00     -37.76      145.06       10331.00  \n",
       "max   433014.00      44515.00    2018.00     -37.41      145.53       21650.00  "
      ]
     },
     "execution_count": 15,
     "metadata": {},
     "output_type": "execute_result"
    }
   ],
   "source": [
    "pd.set_option('display.float_format', '{:.2f}'.format)\n",
    "df.describe()"
   ]
  },
  {
   "cell_type": "markdown",
   "id": "3305b101-7945-4d99-b0ad-0d77f99b4e11",
   "metadata": {},
   "source": [
    "### Checking Outliers to Handle Missing Values"
   ]
  },
  {
   "cell_type": "markdown",
   "id": "4f5c7b72-ca63-4298-a8b6-648b6791c43f",
   "metadata": {},
   "source": [
    "# **Numerical Data**"
   ]
  },
  {
   "cell_type": "markdown",
   "id": "664fe6ef-d9a1-48d6-862b-b62cd315c9f1",
   "metadata": {},
   "source": [
    "# **1. Statistical Methods**"
   ]
  },
  {
   "cell_type": "markdown",
   "id": "895d0bc0-6e44-4019-be31-878b93f49b04",
   "metadata": {},
   "source": [
    "# **a. Z-score**"
   ]
  },
  {
   "cell_type": "raw",
   "id": "1fd9cc1a-dbe9-405d-963c-07d24216f578",
   "metadata": {},
   "source": [
    "Measures how many standard deviations a data point is from the mean."
   ]
  },
  {
   "cell_type": "code",
   "execution_count": 16,
   "id": "fcd738e7-13aa-416d-a548-2a0a75bd355d",
   "metadata": {},
   "outputs": [
    {
     "name": "stdout",
     "output_type": "stream",
     "text": [
      "Empty DataFrame\n",
      "Columns: [Suburb, Address, Rooms, Type, Price, Method, SellerG, Date, Distance, Postcode, Bedroom2, Bathroom, Car, Landsize, BuildingArea, YearBuilt, CouncilArea, Lattitude, Longtitude, Regionname, Propertycount]\n",
      "Index: []\n",
      "\n",
      "[0 rows x 21 columns]\n"
     ]
    }
   ],
   "source": [
    "from scipy import stats\n",
    "z_scores = stats.zscore(df['BuildingArea'])\n",
    "outliers=df[abs(z_scores) > 3]\n",
    "print(outliers)"
   ]
  },
  {
   "cell_type": "code",
   "execution_count": 17,
   "id": "c92065fc-698e-4d08-b4e0-039a28d419a5",
   "metadata": {},
   "outputs": [
    {
     "name": "stdout",
     "output_type": "stream",
     "text": [
      "Empty DataFrame\n",
      "Columns: [Suburb, Address, Rooms, Type, Price, Method, SellerG, Date, Distance, Postcode, Bedroom2, Bathroom, Car, Landsize, BuildingArea, YearBuilt, CouncilArea, Lattitude, Longtitude, Regionname, Propertycount]\n",
      "Index: []\n",
      "\n",
      "[0 rows x 21 columns]\n"
     ]
    }
   ],
   "source": [
    "z_scores_1 = stats.zscore(df['YearBuilt'])\n",
    "outliers_1=df[abs(z_scores_1) > 1]\n",
    "print(outliers)"
   ]
  },
  {
   "cell_type": "markdown",
   "id": "e3fa7c34-522e-4380-9b00-30a2caa61414",
   "metadata": {},
   "source": [
    "- **Z-score method works well for normally distributed data and detects values thar are far from the mean**\n",
    "- **Z-score method didn't show any outliers in both BuildingArea and YearBuilt column is because the values are close to mean and within a standard deviation of 3**."
   ]
  },
  {
   "cell_type": "markdown",
   "id": "2f443716-5e95-459c-bc41-4fae97e3dead",
   "metadata": {},
   "source": [
    "**b. IQR (Interquartile Range)**"
   ]
  },
  {
   "cell_type": "code",
   "execution_count": 18,
   "id": "b8ee24a4-6b55-4ed2-95bd-ae4a4bfed6c8",
   "metadata": {},
   "outputs": [
    {
     "name": "stdout",
     "output_type": "stream",
     "text": [
      "                  Suburb             Address  Rooms Type      Price Method  \\\n",
      "63          Airport West      6 Kittyhawk St      4    h  773000.00      S   \n",
      "204         Altona North          21 Neal Ct      3    h  770000.00     SP   \n",
      "251             Armadale    367 Dandenong Rd      6    h 5525000.00      S   \n",
      "273             Armadale       44 Hampden Rd      4    h 4200000.00     VB   \n",
      "292           Ascot Vale   75 Maribyrnong Rd      6    h 2425000.00     PI   \n",
      "...                  ...                 ...    ...  ...        ...    ...   \n",
      "13365         Briar Hill      77 Karingal Dr      4    h 1030000.00      S   \n",
      "13474            Kooyong       707 Toorak Rd      4    h 3080000.00     SP   \n",
      "13503     Mount Waverley  17 Huntingtower Cr      6    h 1840000.00      S   \n",
      "13518           Parkdale        63 The Corso      4    h 2475000.00     PI   \n",
      "13560  Templestowe Lower      50 Caroline Dr      5    h 1400000.00      S   \n",
      "\n",
      "             SellerG        Date  Distance  Postcode  ...  Bathroom  Car  \\\n",
      "63              Brad  17/09/2016     13.50   3042.00  ...      3.00 4.00   \n",
      "204    hockingstuart  19/11/2016     11.10   3025.00  ...      1.00 3.00   \n",
      "251         Marshall  17/09/2016      6.30   3143.00  ...      3.00 4.00   \n",
      "273              Kay  27/11/2016      6.30   3143.00  ...      3.00 3.00   \n",
      "292             Brad   4/06/2016      5.90   3032.00  ...      3.00 2.00   \n",
      "...              ...         ...       ...       ...  ...       ...  ...   \n",
      "13365         Nelson  26/08/2017     16.10   3088.00  ...      3.00 3.00   \n",
      "13474         Jellis  26/08/2017      5.90   3144.00  ...      2.00 3.00   \n",
      "13503         Jellis  26/08/2017     14.20   3149.00  ...      2.00 2.00   \n",
      "13518         Buxton  26/08/2017     21.50   3195.00  ...      3.00 3.00   \n",
      "13560          Barry  26/08/2017     12.40   3107.00  ...      3.00 2.00   \n",
      "\n",
      "       Landsize  BuildingArea  YearBuilt    CouncilArea Lattitude  Longtitude  \\\n",
      "63       531.00        309.00    1980.00  Moonee Valley    -37.73      144.87   \n",
      "204      602.00        603.00        NaN    Hobsons Bay    -37.83      144.85   \n",
      "251     1491.00        516.00    1935.00    Stonnington    -37.86      145.01   \n",
      "273      563.00        333.00    2000.00    Stonnington    -37.86      145.01   \n",
      "292     1014.00        435.00    1887.00  Moonee Valley    -37.77      144.92   \n",
      "...         ...           ...        ...            ...       ...         ...   \n",
      "13365   1061.00        312.00    1960.00            NaN    -37.71      145.13   \n",
      "13474    620.00        339.00    1930.00            NaN    -37.84      145.03   \n",
      "13503    554.00        368.00    1999.00            NaN    -37.88      145.14   \n",
      "13518    665.00        450.00    2016.00            NaN    -38.00      145.08   \n",
      "13560    717.00        310.00    1963.00            NaN    -37.77      145.11   \n",
      "\n",
      "                       Regionname Propertycount  \n",
      "63           Western Metropolitan       3464.00  \n",
      "204          Western Metropolitan       5132.00  \n",
      "251         Southern Metropolitan       4836.00  \n",
      "273         Southern Metropolitan       4836.00  \n",
      "292          Western Metropolitan       6567.00  \n",
      "...                           ...           ...  \n",
      "13365        Eastern Metropolitan       1390.00  \n",
      "13474       Southern Metropolitan        394.00  \n",
      "13503        Eastern Metropolitan      13366.00  \n",
      "13518  South-Eastern Metropolitan       5087.00  \n",
      "13560        Eastern Metropolitan       5420.00  \n",
      "\n",
      "[353 rows x 21 columns]\n"
     ]
    }
   ],
   "source": [
    "Q1 = df['BuildingArea'].quantile(0.25)\n",
    "Q3 = df['BuildingArea'].quantile(0.75)\n",
    "IQR = Q3 - Q1\n",
    "\n",
    "# Define Outliers\n",
    "lower_bound = Q1 - 1.5 * IQR\n",
    "upper_bound = Q3 + 1.5 * IQR\n",
    "\n",
    "#Get entire row of the outlier values from the BuildingArea Column\n",
    "outliers_IQR = df[(df['BuildingArea'] < lower_bound) | (df['BuildingArea'] > upper_bound)]\n",
    "print(outliers_IQR)"
   ]
  },
  {
   "cell_type": "code",
   "execution_count": 19,
   "id": "0eeed73a-88bb-4d1b-9c59-f926a1767531",
   "metadata": {},
   "outputs": [
    {
     "name": "stdout",
     "output_type": "stream",
     "text": [
      "2079   1830.00\n",
      "2554   1850.00\n",
      "4843   1850.00\n",
      "5405   1850.00\n",
      "5860   1850.00\n",
      "9968   1196.00\n",
      "Name: YearBuilt, dtype: float64\n"
     ]
    }
   ],
   "source": [
    "Q1 = df['YearBuilt'].quantile(0.25)\n",
    "Q3 = df['YearBuilt'].quantile(0.75)\n",
    "IQR = Q3 - Q1\n",
    "\n",
    "# Define Outliers\n",
    "lower_bound = Q1 - 1.5 * IQR\n",
    "upper_bound = Q3 + 1.5 * IQR\n",
    "\n",
    "#Get only the outlier values from the YearBuilt Column\n",
    "outliers_IQR = df[(df['YearBuilt'] < lower_bound) | (df['YearBuilt'] > upper_bound)]['YearBuilt']\n",
    "\n",
    "print(outliers_IQR)"
   ]
  },
  {
   "cell_type": "markdown",
   "id": "3575a53b-50fc-4f29-8d73-9587c8348667",
   "metadata": {},
   "source": [
    "- **IQR is more robust to skewed or non-normal data distributions and detect outliers that are distant from the middle 50% of the data (based on quartiles)**"
   ]
  },
  {
   "cell_type": "markdown",
   "id": "b7771e86-33ed-4d4f-99dc-471165fd2d14",
   "metadata": {},
   "source": [
    "# **If data is skewed IQR detect outliers where Z-scores do not**"
   ]
  },
  {
   "cell_type": "markdown",
   "id": "342a2fbf-8ad0-4f8d-bc66-d96323776b30",
   "metadata": {},
   "source": [
    "# **Visual Methods**"
   ]
  },
  {
   "cell_type": "markdown",
   "id": "07d133b4-857a-4d5d-a6c7-1c6068b6578d",
   "metadata": {},
   "source": [
    "# **a. Box Plot**"
   ]
  },
  {
   "cell_type": "code",
   "execution_count": 20,
   "id": "6aeeff3d-092f-42c1-b61e-7983f20f0a1f",
   "metadata": {},
   "outputs": [
    {
     "data": {
      "text/plain": [
       "<Axes: xlabel='BuildingArea'>"
      ]
     },
     "execution_count": 20,
     "metadata": {},
     "output_type": "execute_result"
    },
    {
     "data": {
      "image/png": "[encoded data removed]",
      "text/plain": [
       "<Figure size 800x600 with 1 Axes>"
      ]
     },
     "metadata": {},
     "output_type": "display_data"
    }
   ],
   "source": [
    "plt.figure(figsize=(8,6))\n",
    "sns.boxplot(x=df['BuildingArea'])"
   ]
  },
  {
   "cell_type": "code",
   "execution_count": 21,
   "id": "22162d70-190f-4565-9d79-28ef5d08421b",
   "metadata": {},
   "outputs": [
    {
     "data": {
      "text/plain": [
       "<Axes: >"
      ]
     },
     "execution_count": 21,
     "metadata": {},
     "output_type": "execute_result"
    },
    {
     "data": {
      "image/png": "[encoded data removed]",
      "text/plain": [
       "<Figure size 640x480 with 1 Axes>"
      ]
     },
     "metadata": {},
     "output_type": "display_data"
    }
   ],
   "source": [
    "sns.boxplot(df['YearBuilt'])"
   ]
  },
  {
   "cell_type": "markdown",
   "id": "227ddc52-9b30-4b77-bd6f-42699bfc35a8",
   "metadata": {},
   "source": [
    "# **b.Scatter Plot**"
   ]
  },
  {
   "cell_type": "markdown",
   "id": "fe58349e-efac-4e5a-b903-47c50a7c074c",
   "metadata": {},
   "source": [
    "plt.scatter(df['BuildingArea'], df['Price'])"
   ]
  },
  {
   "cell_type": "markdown",
   "id": "989e3a52-d123-40e0-8b49-eca714334e96",
   "metadata": {},
   "source": [
    "# **3. Using Machine Learning (For Complex Outliers)**\n",
    "- **a. Isolation Forest**\n",
    "- **b.One-Class SVM**"
   ]
  },
  {
   "cell_type": "markdown",
   "id": "8e8a7ec4-13fd-4865-b18c-2e4704f18d87",
   "metadata": {},
   "source": [
    "### Categorical Data"
   ]
  },
  {
   "cell_type": "markdown",
   "id": "7a00488c-838c-48f8-bc90-6f9303657c48",
   "metadata": {},
   "source": [
    "# **Frequency-based Approach**\n",
    "- **Categories that occur less than a certain threshold are considered outliers**"
   ]
  },
  {
   "cell_type": "code",
   "execution_count": 22,
   "id": "f8a279e7-88f8-4653-82ff-9058a48a1a85",
   "metadata": {},
   "outputs": [
    {
     "name": "stdout",
     "output_type": "stream",
     "text": [
      "8963     9.00\n",
      "9423    10.00\n",
      "11642   10.00\n",
      "13527   10.00\n",
      "Name: Car, dtype: float64\n"
     ]
    }
   ],
   "source": [
    "threshold = 5\n",
    "value_counts = df['Car'].value_counts()\n",
    "rare_categories = value_counts[value_counts < threshold]\n",
    "outliers = df[df['Car'].isin(rare_categories.index)]['Car']\n",
    "print(outliers)"
   ]
  },
  {
   "cell_type": "markdown",
   "id": "6cff2b9d-9f26-4689-969b-bb55eb2c32ca",
   "metadata": {},
   "source": [
    "### Handling Missing Values - Imputation"
   ]
  },
  {
   "cell_type": "markdown",
   "id": "f429c8d9-2243-425d-9c8f-201aa7b5d2ba",
   "metadata": {},
   "source": [
    "**Numerical Variables**"
   ]
  },
  {
   "cell_type": "markdown",
   "id": "8f3f881e-fef3-4d22-9fee-72b073b52fdf",
   "metadata": {},
   "source": [
    "# **Mean**"
   ]
  },
  {
   "cell_type": "code",
   "execution_count": 23,
   "id": "d5af7c05-2aa0-4c52-a2a9-0572dc903997",
   "metadata": {},
   "outputs": [
    {
     "data": {
      "text/html": [
       "<div>\n",
       "<style scoped>\n",
       "    .dataframe tbody tr th:only-of-type {\n",
       "        vertical-align: middle;\n",
       "    }\n",
       "\n",
       "    .dataframe tbody tr th {\n",
       "        vertical-align: top;\n",
       "    }\n",
       "\n",
       "    .dataframe thead th {\n",
       "        text-align: right;\n",
       "    }\n",
       "</style>\n",
       "<table border=\"1\" class=\"dataframe\">\n",
       "  <thead>\n",
       "    <tr style=\"text-align: right;\">\n",
       "      <th></th>\n",
       "      <th>BuildingArea</th>\n",
       "      <th>BuildingArea_mean</th>\n",
       "    </tr>\n",
       "  </thead>\n",
       "  <tbody>\n",
       "    <tr>\n",
       "      <th>0</th>\n",
       "      <td>NaN</td>\n",
       "      <td>151.97</td>\n",
       "    </tr>\n",
       "    <tr>\n",
       "      <th>3</th>\n",
       "      <td>NaN</td>\n",
       "      <td>151.97</td>\n",
       "    </tr>\n",
       "    <tr>\n",
       "      <th>5</th>\n",
       "      <td>NaN</td>\n",
       "      <td>151.97</td>\n",
       "    </tr>\n",
       "    <tr>\n",
       "      <th>8</th>\n",
       "      <td>NaN</td>\n",
       "      <td>151.97</td>\n",
       "    </tr>\n",
       "    <tr>\n",
       "      <th>10</th>\n",
       "      <td>NaN</td>\n",
       "      <td>151.97</td>\n",
       "    </tr>\n",
       "    <tr>\n",
       "      <th>...</th>\n",
       "      <td>...</td>\n",
       "      <td>...</td>\n",
       "    </tr>\n",
       "    <tr>\n",
       "      <th>13569</th>\n",
       "      <td>NaN</td>\n",
       "      <td>151.97</td>\n",
       "    </tr>\n",
       "    <tr>\n",
       "      <th>13570</th>\n",
       "      <td>NaN</td>\n",
       "      <td>151.97</td>\n",
       "    </tr>\n",
       "    <tr>\n",
       "      <th>13574</th>\n",
       "      <td>NaN</td>\n",
       "      <td>151.97</td>\n",
       "    </tr>\n",
       "    <tr>\n",
       "      <th>13575</th>\n",
       "      <td>NaN</td>\n",
       "      <td>151.97</td>\n",
       "    </tr>\n",
       "    <tr>\n",
       "      <th>13577</th>\n",
       "      <td>NaN</td>\n",
       "      <td>151.97</td>\n",
       "    </tr>\n",
       "  </tbody>\n",
       "</table>\n",
       "<p>6450 rows × 2 columns</p>\n",
       "</div>"
      ],
      "text/plain": [
       "       BuildingArea  BuildingArea_mean\n",
       "0               NaN             151.97\n",
       "3               NaN             151.97\n",
       "5               NaN             151.97\n",
       "8               NaN             151.97\n",
       "10              NaN             151.97\n",
       "...             ...                ...\n",
       "13569           NaN             151.97\n",
       "13570           NaN             151.97\n",
       "13574           NaN             151.97\n",
       "13575           NaN             151.97\n",
       "13577           NaN             151.97\n",
       "\n",
       "[6450 rows x 2 columns]"
      ]
     },
     "execution_count": 23,
     "metadata": {},
     "output_type": "execute_result"
    }
   ],
   "source": [
    "df['BuildingArea_mean'] = df['BuildingArea'].fillna(df['BuildingArea'].mean(), inplace=False)\n",
    "imputed_rows = df[df['BuildingArea'].isna()]\n",
    "imputed_rows[['BuildingArea', 'BuildingArea_mean']]"
   ]
  },
  {
   "cell_type": "code",
   "execution_count": 24,
   "id": "ece4450a-a9c6-4a96-a396-5bc0e5520579",
   "metadata": {},
   "outputs": [
    {
     "data": {
      "text/html": [
       "<div>\n",
       "<style scoped>\n",
       "    .dataframe tbody tr th:only-of-type {\n",
       "        vertical-align: middle;\n",
       "    }\n",
       "\n",
       "    .dataframe tbody tr th {\n",
       "        vertical-align: top;\n",
       "    }\n",
       "\n",
       "    .dataframe thead th {\n",
       "        text-align: right;\n",
       "    }\n",
       "</style>\n",
       "<table border=\"1\" class=\"dataframe\">\n",
       "  <thead>\n",
       "    <tr style=\"text-align: right;\">\n",
       "      <th></th>\n",
       "      <th>YearBuilt</th>\n",
       "      <th>YearBuilt_mean</th>\n",
       "    </tr>\n",
       "  </thead>\n",
       "  <tbody>\n",
       "    <tr>\n",
       "      <th>0</th>\n",
       "      <td>NaN</td>\n",
       "      <td>1964.68</td>\n",
       "    </tr>\n",
       "    <tr>\n",
       "      <th>3</th>\n",
       "      <td>NaN</td>\n",
       "      <td>1964.68</td>\n",
       "    </tr>\n",
       "    <tr>\n",
       "      <th>5</th>\n",
       "      <td>NaN</td>\n",
       "      <td>1964.68</td>\n",
       "    </tr>\n",
       "    <tr>\n",
       "      <th>8</th>\n",
       "      <td>NaN</td>\n",
       "      <td>1964.68</td>\n",
       "    </tr>\n",
       "    <tr>\n",
       "      <th>10</th>\n",
       "      <td>NaN</td>\n",
       "      <td>1964.68</td>\n",
       "    </tr>\n",
       "    <tr>\n",
       "      <th>...</th>\n",
       "      <td>...</td>\n",
       "      <td>...</td>\n",
       "    </tr>\n",
       "    <tr>\n",
       "      <th>13566</th>\n",
       "      <td>NaN</td>\n",
       "      <td>1964.68</td>\n",
       "    </tr>\n",
       "    <tr>\n",
       "      <th>13567</th>\n",
       "      <td>NaN</td>\n",
       "      <td>1964.68</td>\n",
       "    </tr>\n",
       "    <tr>\n",
       "      <th>13569</th>\n",
       "      <td>NaN</td>\n",
       "      <td>1964.68</td>\n",
       "    </tr>\n",
       "    <tr>\n",
       "      <th>13570</th>\n",
       "      <td>NaN</td>\n",
       "      <td>1964.68</td>\n",
       "    </tr>\n",
       "    <tr>\n",
       "      <th>13574</th>\n",
       "      <td>NaN</td>\n",
       "      <td>1964.68</td>\n",
       "    </tr>\n",
       "  </tbody>\n",
       "</table>\n",
       "<p>5375 rows × 2 columns</p>\n",
       "</div>"
      ],
      "text/plain": [
       "       YearBuilt  YearBuilt_mean\n",
       "0            NaN         1964.68\n",
       "3            NaN         1964.68\n",
       "5            NaN         1964.68\n",
       "8            NaN         1964.68\n",
       "10           NaN         1964.68\n",
       "...          ...             ...\n",
       "13566        NaN         1964.68\n",
       "13567        NaN         1964.68\n",
       "13569        NaN         1964.68\n",
       "13570        NaN         1964.68\n",
       "13574        NaN         1964.68\n",
       "\n",
       "[5375 rows x 2 columns]"
      ]
     },
     "execution_count": 24,
     "metadata": {},
     "output_type": "execute_result"
    }
   ],
   "source": [
    "df['YearBuilt_mean'] = df['YearBuilt'].fillna(df['YearBuilt'].mean(), inplace=False)\n",
    "imputed_rows = df[df['YearBuilt'].isna()]\n",
    "imputed_rows[['YearBuilt', 'YearBuilt_mean']]"
   ]
  },
  {
   "cell_type": "markdown",
   "id": "1b505c5c-efb4-4926-afa8-207829b3af07",
   "metadata": {},
   "source": [
    "# **Median**"
   ]
  },
  {
   "cell_type": "code",
   "execution_count": 25,
   "id": "c1154dfd-72cd-4c9b-adf2-33679bf62466",
   "metadata": {
    "scrolled": true
   },
   "outputs": [
    {
     "data": {
      "text/html": [
       "<div>\n",
       "<style scoped>\n",
       "    .dataframe tbody tr th:only-of-type {\n",
       "        vertical-align: middle;\n",
       "    }\n",
       "\n",
       "    .dataframe tbody tr th {\n",
       "        vertical-align: top;\n",
       "    }\n",
       "\n",
       "    .dataframe thead th {\n",
       "        text-align: right;\n",
       "    }\n",
       "</style>\n",
       "<table border=\"1\" class=\"dataframe\">\n",
       "  <thead>\n",
       "    <tr style=\"text-align: right;\">\n",
       "      <th></th>\n",
       "      <th>BuildingArea</th>\n",
       "      <th>BuildingArea_Median</th>\n",
       "    </tr>\n",
       "  </thead>\n",
       "  <tbody>\n",
       "    <tr>\n",
       "      <th>0</th>\n",
       "      <td>NaN</td>\n",
       "      <td>126.00</td>\n",
       "    </tr>\n",
       "    <tr>\n",
       "      <th>3</th>\n",
       "      <td>NaN</td>\n",
       "      <td>126.00</td>\n",
       "    </tr>\n",
       "    <tr>\n",
       "      <th>5</th>\n",
       "      <td>NaN</td>\n",
       "      <td>126.00</td>\n",
       "    </tr>\n",
       "    <tr>\n",
       "      <th>8</th>\n",
       "      <td>NaN</td>\n",
       "      <td>126.00</td>\n",
       "    </tr>\n",
       "    <tr>\n",
       "      <th>10</th>\n",
       "      <td>NaN</td>\n",
       "      <td>126.00</td>\n",
       "    </tr>\n",
       "    <tr>\n",
       "      <th>...</th>\n",
       "      <td>...</td>\n",
       "      <td>...</td>\n",
       "    </tr>\n",
       "    <tr>\n",
       "      <th>13569</th>\n",
       "      <td>NaN</td>\n",
       "      <td>126.00</td>\n",
       "    </tr>\n",
       "    <tr>\n",
       "      <th>13570</th>\n",
       "      <td>NaN</td>\n",
       "      <td>126.00</td>\n",
       "    </tr>\n",
       "    <tr>\n",
       "      <th>13574</th>\n",
       "      <td>NaN</td>\n",
       "      <td>126.00</td>\n",
       "    </tr>\n",
       "    <tr>\n",
       "      <th>13575</th>\n",
       "      <td>NaN</td>\n",
       "      <td>126.00</td>\n",
       "    </tr>\n",
       "    <tr>\n",
       "      <th>13577</th>\n",
       "      <td>NaN</td>\n",
       "      <td>126.00</td>\n",
       "    </tr>\n",
       "  </tbody>\n",
       "</table>\n",
       "<p>6450 rows × 2 columns</p>\n",
       "</div>"
      ],
      "text/plain": [
       "       BuildingArea  BuildingArea_Median\n",
       "0               NaN               126.00\n",
       "3               NaN               126.00\n",
       "5               NaN               126.00\n",
       "8               NaN               126.00\n",
       "10              NaN               126.00\n",
       "...             ...                  ...\n",
       "13569           NaN               126.00\n",
       "13570           NaN               126.00\n",
       "13574           NaN               126.00\n",
       "13575           NaN               126.00\n",
       "13577           NaN               126.00\n",
       "\n",
       "[6450 rows x 2 columns]"
      ]
     },
     "execution_count": 25,
     "metadata": {},
     "output_type": "execute_result"
    }
   ],
   "source": [
    "df['BuildingArea_Median'] = df['BuildingArea'].fillna(df['BuildingArea'].median(), inplace=False)\n",
    "imputed_rows = df[df['BuildingArea'].isna()]\n",
    "imputed_rows[['BuildingArea', 'BuildingArea_Median']]"
   ]
  },
  {
   "cell_type": "code",
   "execution_count": 26,
   "id": "880d74be-a63c-4ebe-b66f-da982ffaf427",
   "metadata": {
    "scrolled": true
   },
   "outputs": [
    {
     "data": {
      "text/html": [
       "<div>\n",
       "<style scoped>\n",
       "    .dataframe tbody tr th:only-of-type {\n",
       "        vertical-align: middle;\n",
       "    }\n",
       "\n",
       "    .dataframe tbody tr th {\n",
       "        vertical-align: top;\n",
       "    }\n",
       "\n",
       "    .dataframe thead th {\n",
       "        text-align: right;\n",
       "    }\n",
       "</style>\n",
       "<table border=\"1\" class=\"dataframe\">\n",
       "  <thead>\n",
       "    <tr style=\"text-align: right;\">\n",
       "      <th></th>\n",
       "      <th>YearBuilt</th>\n",
       "      <th>YearBuilt_Median</th>\n",
       "    </tr>\n",
       "  </thead>\n",
       "  <tbody>\n",
       "    <tr>\n",
       "      <th>0</th>\n",
       "      <td>NaN</td>\n",
       "      <td>1970.00</td>\n",
       "    </tr>\n",
       "    <tr>\n",
       "      <th>3</th>\n",
       "      <td>NaN</td>\n",
       "      <td>1970.00</td>\n",
       "    </tr>\n",
       "    <tr>\n",
       "      <th>5</th>\n",
       "      <td>NaN</td>\n",
       "      <td>1970.00</td>\n",
       "    </tr>\n",
       "    <tr>\n",
       "      <th>8</th>\n",
       "      <td>NaN</td>\n",
       "      <td>1970.00</td>\n",
       "    </tr>\n",
       "    <tr>\n",
       "      <th>10</th>\n",
       "      <td>NaN</td>\n",
       "      <td>1970.00</td>\n",
       "    </tr>\n",
       "    <tr>\n",
       "      <th>...</th>\n",
       "      <td>...</td>\n",
       "      <td>...</td>\n",
       "    </tr>\n",
       "    <tr>\n",
       "      <th>13566</th>\n",
       "      <td>NaN</td>\n",
       "      <td>1970.00</td>\n",
       "    </tr>\n",
       "    <tr>\n",
       "      <th>13567</th>\n",
       "      <td>NaN</td>\n",
       "      <td>1970.00</td>\n",
       "    </tr>\n",
       "    <tr>\n",
       "      <th>13569</th>\n",
       "      <td>NaN</td>\n",
       "      <td>1970.00</td>\n",
       "    </tr>\n",
       "    <tr>\n",
       "      <th>13570</th>\n",
       "      <td>NaN</td>\n",
       "      <td>1970.00</td>\n",
       "    </tr>\n",
       "    <tr>\n",
       "      <th>13574</th>\n",
       "      <td>NaN</td>\n",
       "      <td>1970.00</td>\n",
       "    </tr>\n",
       "  </tbody>\n",
       "</table>\n",
       "<p>5375 rows × 2 columns</p>\n",
       "</div>"
      ],
      "text/plain": [
       "       YearBuilt  YearBuilt_Median\n",
       "0            NaN           1970.00\n",
       "3            NaN           1970.00\n",
       "5            NaN           1970.00\n",
       "8            NaN           1970.00\n",
       "10           NaN           1970.00\n",
       "...          ...               ...\n",
       "13566        NaN           1970.00\n",
       "13567        NaN           1970.00\n",
       "13569        NaN           1970.00\n",
       "13570        NaN           1970.00\n",
       "13574        NaN           1970.00\n",
       "\n",
       "[5375 rows x 2 columns]"
      ]
     },
     "execution_count": 26,
     "metadata": {},
     "output_type": "execute_result"
    }
   ],
   "source": [
    "df['YearBuilt_Median'] = df['YearBuilt'].fillna(df['YearBuilt'].median(), inplace=False)\n",
    "imputed_rows = df[df['YearBuilt'].isna()]\n",
    "imputed_rows[['YearBuilt', 'YearBuilt_Median']]"
   ]
  },
  {
   "cell_type": "code",
   "execution_count": 27,
   "id": "100590bd-a9a9-4d7f-8b2b-6248cf800ed2",
   "metadata": {},
   "outputs": [
    {
     "data": {
      "text/html": [
       "<div>\n",
       "<style scoped>\n",
       "    .dataframe tbody tr th:only-of-type {\n",
       "        vertical-align: middle;\n",
       "    }\n",
       "\n",
       "    .dataframe tbody tr th {\n",
       "        vertical-align: top;\n",
       "    }\n",
       "\n",
       "    .dataframe thead th {\n",
       "        text-align: right;\n",
       "    }\n",
       "</style>\n",
       "<table border=\"1\" class=\"dataframe\">\n",
       "  <thead>\n",
       "    <tr style=\"text-align: right;\">\n",
       "      <th></th>\n",
       "      <th>YearBuilt</th>\n",
       "      <th>YearBuilt_mean</th>\n",
       "      <th>YearBuilt_Median</th>\n",
       "      <th>BuildingArea</th>\n",
       "      <th>BuildingArea_mean</th>\n",
       "      <th>BuildingArea_Median</th>\n",
       "    </tr>\n",
       "  </thead>\n",
       "  <tbody>\n",
       "    <tr>\n",
       "      <th>count</th>\n",
       "      <td>8205.00</td>\n",
       "      <td>13580.00</td>\n",
       "      <td>13580.00</td>\n",
       "      <td>7130.00</td>\n",
       "      <td>13580.00</td>\n",
       "      <td>13580.00</td>\n",
       "    </tr>\n",
       "    <tr>\n",
       "      <th>mean</th>\n",
       "      <td>1964.68</td>\n",
       "      <td>1964.68</td>\n",
       "      <td>1966.79</td>\n",
       "      <td>151.97</td>\n",
       "      <td>151.97</td>\n",
       "      <td>139.63</td>\n",
       "    </tr>\n",
       "    <tr>\n",
       "      <th>std</th>\n",
       "      <td>37.27</td>\n",
       "      <td>28.97</td>\n",
       "      <td>29.09</td>\n",
       "      <td>541.01</td>\n",
       "      <td>392.00</td>\n",
       "      <td>392.22</td>\n",
       "    </tr>\n",
       "    <tr>\n",
       "      <th>min</th>\n",
       "      <td>1196.00</td>\n",
       "      <td>1196.00</td>\n",
       "      <td>1196.00</td>\n",
       "      <td>0.00</td>\n",
       "      <td>0.00</td>\n",
       "      <td>0.00</td>\n",
       "    </tr>\n",
       "    <tr>\n",
       "      <th>25%</th>\n",
       "      <td>1940.00</td>\n",
       "      <td>1960.00</td>\n",
       "      <td>1960.00</td>\n",
       "      <td>93.00</td>\n",
       "      <td>122.00</td>\n",
       "      <td>122.00</td>\n",
       "    </tr>\n",
       "    <tr>\n",
       "      <th>50%</th>\n",
       "      <td>1970.00</td>\n",
       "      <td>1964.68</td>\n",
       "      <td>1970.00</td>\n",
       "      <td>126.00</td>\n",
       "      <td>151.97</td>\n",
       "      <td>126.00</td>\n",
       "    </tr>\n",
       "    <tr>\n",
       "      <th>75%</th>\n",
       "      <td>1999.00</td>\n",
       "      <td>1975.00</td>\n",
       "      <td>1975.00</td>\n",
       "      <td>174.00</td>\n",
       "      <td>151.97</td>\n",
       "      <td>129.94</td>\n",
       "    </tr>\n",
       "    <tr>\n",
       "      <th>max</th>\n",
       "      <td>2018.00</td>\n",
       "      <td>2018.00</td>\n",
       "      <td>2018.00</td>\n",
       "      <td>44515.00</td>\n",
       "      <td>44515.00</td>\n",
       "      <td>44515.00</td>\n",
       "    </tr>\n",
       "  </tbody>\n",
       "</table>\n",
       "</div>"
      ],
      "text/plain": [
       "       YearBuilt  YearBuilt_mean  YearBuilt_Median  BuildingArea  \\\n",
       "count    8205.00        13580.00          13580.00       7130.00   \n",
       "mean     1964.68         1964.68           1966.79        151.97   \n",
       "std        37.27           28.97             29.09        541.01   \n",
       "min      1196.00         1196.00           1196.00          0.00   \n",
       "25%      1940.00         1960.00           1960.00         93.00   \n",
       "50%      1970.00         1964.68           1970.00        126.00   \n",
       "75%      1999.00         1975.00           1975.00        174.00   \n",
       "max      2018.00         2018.00           2018.00      44515.00   \n",
       "\n",
       "       BuildingArea_mean  BuildingArea_Median  \n",
       "count           13580.00             13580.00  \n",
       "mean              151.97               139.63  \n",
       "std               392.00               392.22  \n",
       "min                 0.00                 0.00  \n",
       "25%               122.00               122.00  \n",
       "50%               151.97               126.00  \n",
       "75%               151.97               129.94  \n",
       "max             44515.00             44515.00  "
      ]
     },
     "execution_count": 27,
     "metadata": {},
     "output_type": "execute_result"
    }
   ],
   "source": [
    "df[['YearBuilt', 'YearBuilt_mean', 'YearBuilt_Median', 'BuildingArea', 'BuildingArea_mean', 'BuildingArea_Median']].describe()"
   ]
  },
  {
   "cell_type": "markdown",
   "id": "427c88e5-e29c-4d39-ba7b-7de1e7ec4dd8",
   "metadata": {},
   "source": [
    "- **For \"YearBuilt\" mean and median values are close. Distribution is summetrical and doesn't have extreme outliers. Both imputations are good but mean would be better as it can retain some continuity with the original values**\n",
    "- **For \"BuildingArea\" the difference between mean and median is much more significant. This suggests the feature has a skewed distribution with some higher values(outliers) pulling the mean up. So median would be better**"
   ]
  },
  {
   "cell_type": "markdown",
   "id": "fb60b561-248d-494d-882e-399c44895274",
   "metadata": {},
   "source": [
    "### KNN Imputation"
   ]
  },
  {
   "cell_type": "markdown",
   "id": "52214362-74c9-4a66-84c8-2b07719b9c55",
   "metadata": {},
   "source": [
    "- **1. Select a row with a missing value.**\n",
    "- **2. Find its k nearest neighbors using the non-missing feature values.**\n",
    "- **3. Impute the missing feature of the row using the corresponding non-missing values of k nearest neighbor rows.**\n",
    "- **4. Repeat for all rows with missing values.**\n",
    "\n",
    "# Drawbacks\n",
    "- **Does not support categorical features.**\n",
    "- **High run-time for imputation especially for high-dimensional datasets.**"
   ]
  },
  {
   "cell_type": "markdown",
   "id": "2aa9a6ea-1b47-4101-a910-630e73900688",
   "metadata": {},
   "source": []
  }
 ],
 "metadata": {
  "kernelspec": {
   "display_name": "Python 3 (ipykernel)",
   "language": "python",
   "name": "python3"
  },
  "language_info": {
   "codemirror_mode": {
    "name": "ipython",
    "version": 3
   },
   "file_extension": ".py",
   "mimetype": "text/x-python",
   "name": "python",
   "nbconvert_exporter": "python",
   "pygments_lexer": "ipython3",
   "version": "3.11.7"
  }
 },
 "nbformat": 4,
 "nbformat_minor": 5
}
